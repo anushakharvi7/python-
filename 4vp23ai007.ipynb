{
 "cells": [
  {
   "cell_type": "markdown",
   "id": "0adace9d",
   "metadata": {},
   "source": [
    "## Programe-1"
   ]
  },
  {
   "cell_type": "code",
   "execution_count": 3,
   "id": "efe2fb19",
   "metadata": {},
   "outputs": [
    {
     "name": "stdout",
     "output_type": "stream",
     "text": [
      "enter the number of digits:3\n",
      "enter a 3-digit integer:123\n",
      "1\n",
      "2\n",
      "3\n"
     ]
    }
   ],
   "source": [
    "n=int(input(\"enter the number of digits:\"))\n",
    "if n>0:\n",
    "    number=int(input(f\"enter a {n}-digit integer:\"))\n",
    "    if number>=10**(n-1)and number<10**n:\n",
    "        for i in range(n):\n",
    "            digit=number//(10**(n-1))\n",
    "            print(digit)\n",
    "            number%=10**(n-1)\n",
    "            n-=1\n",
    "    else:\n",
    "        print(f\"please enter a {n}-digit integer\")\n",
    "else:\n",
    "    print(\"please enter a valid number of digits(greater than 0)\")\n",
    "            "
   ]
  },
  {
   "cell_type": "markdown",
   "id": "b4a032ce",
   "metadata": {},
   "source": [
    "## Program-2"
   ]
  },
  {
   "cell_type": "code",
   "execution_count": 4,
   "id": "3a71e2a8",
   "metadata": {},
   "outputs": [
    {
     "name": "stdout",
     "output_type": "stream",
     "text": [
      "enter the first number:8\n",
      "enter the second number:4\n",
      "enter the third number:7\n",
      "enter the fourth number:2\n",
      "the sorted number are: 2 4 7 8\n"
     ]
    }
   ],
   "source": [
    "a=int(input(\"enter the first number:\"))\n",
    "b=int(input(\"enter the second number:\"))\n",
    "c=int(input(\"enter the third number:\"))\n",
    "d=int(input(\"enter the fourth number:\"))\n",
    "if a>b:a,b=b,a\n",
    "if c>d:c,d=d,c\n",
    "if a>c:a,c=c,a\n",
    "if b>d:b,d=d,b\n",
    "if b>c:b,c=c,b\n",
    "print(\"the sorted number are:\",a,b,c,d)"
   ]
  },
  {
   "cell_type": "markdown",
   "id": "64bc5f09",
   "metadata": {},
   "source": [
    "## Program-4"
   ]
  },
  {
   "cell_type": "code",
   "execution_count": 7,
   "id": "bf071e15",
   "metadata": {},
   "outputs": [
    {
     "name": "stdout",
     "output_type": "stream",
     "text": [
      "enter an n-digit number:1221\n",
      "Palindrome\n"
     ]
    }
   ],
   "source": [
    "number=int(input(\"enter an n-digit number:\"))\n",
    "original_number=number\n",
    "reversed_number=0\n",
    "while number>0:\n",
    "    digit=number%10\n",
    "    reversed_number=reversed_number*10+digit\n",
    "    number//=10\n",
    "if original_number==reversed_number:\n",
    "    print(\"Palindrome\")\n",
    "else:\n",
    "    print(\"Not a palindrome\")"
   ]
  },
  {
   "cell_type": "markdown",
   "id": "c945887f",
   "metadata": {},
   "source": [
    "## Program-5"
   ]
  },
  {
   "cell_type": "code",
   "execution_count": 8,
   "id": "321885a8",
   "metadata": {},
   "outputs": [
    {
     "name": "stdout",
     "output_type": "stream",
     "text": [
      "enter an integer for the multiplication table:5\n",
      "multiplication table for 5:\n",
      "5*1=5\n",
      "5*2=10\n",
      "5*3=15\n",
      "5*4=20\n",
      "5*5=25\n",
      "5*6=30\n",
      "5*7=35\n",
      "5*8=40\n",
      "5*9=45\n",
      "5*10=50\n"
     ]
    }
   ],
   "source": [
    "n=int(input(\"enter an integer for the multiplication table:\"))\n",
    "print(f\"multiplication table for {n}:\")\n",
    "for i in range(1,11):\n",
    "    result=n*i\n",
    "    print(f\"{n}*{i}={result}\")"
   ]
  },
  {
   "cell_type": "markdown",
   "id": "bdbdf3b6",
   "metadata": {},
   "source": [
    "## Program-3"
   ]
  },
  {
   "cell_type": "code",
   "execution_count": 1,
   "id": "0ebc22cb",
   "metadata": {},
   "outputs": [
    {
     "name": "stdout",
     "output_type": "stream",
     "text": [
      "enter the number of elements:6\n",
      "enter number1:4\n",
      "enter number2:8\n",
      "enter number3:6\n",
      "enter number4:5\n",
      "enter number5:3\n",
      "enter number6:9\n",
      "mean:5.833333333333333\n",
      "median:5.5\n",
      "mode:no mode\n",
      "sample variance:5.366666666666667\n",
      "population variance:4.472222222222222\n",
      "sample standard deviation:2.316606713852541\n",
      "population standard deviation:2.1147629234082532\n"
     ]
    }
   ],
   "source": [
    "n=int(input(\"enter the number of elements:\"))\n",
    "numbers=[int(input(f\"enter number{i+1}:\"))for i in range(n)]\n",
    "mean=sum(numbers)/n\n",
    "numbers.sort()\n",
    "if n%2==0:\n",
    "    median=(numbers[n//2-1]+numbers[n//2])/2\n",
    "else:\n",
    "    median=(numbers[n//2])\n",
    "frequency={num:numbers.count(num)for num in numbers}\n",
    "max_count=max(frequency.values())\n",
    "mode=[k for k,v in frequency.items()if v==max_count]\n",
    "if len(mode)==n:\n",
    "    mode=\"no mode\"\n",
    "mean_difference_squared_sum=sum((x-mean)**2 for x in numbers)\n",
    "variance_sample=mean_difference_squared_sum/(n-1)if n>1 else 0\n",
    "variance_population=mean_difference_squared_sum/n\n",
    "std_deviation_sample=variance_sample**0.5\n",
    "std_deviation_population=variance_population**0.5\n",
    "print(f\"mean:{mean}\")\n",
    "print(f\"median:{median}\")\n",
    "print(f\"mode:{mode}\")\n",
    "print(f\"sample variance:{variance_sample}\")\n",
    "print(f\"population variance:{variance_population}\")\n",
    "print(f\"sample standard deviation:{std_deviation_sample}\")\n",
    "print(f\"population standard deviation:{std_deviation_population}\")"
   ]
  },
  {
   "cell_type": "markdown",
   "id": "e883b27a",
   "metadata": {},
   "source": [
    "## Program-6"
   ]
  },
  {
   "cell_type": "code",
   "execution_count": 3,
   "id": "45522eb7",
   "metadata": {},
   "outputs": [
    {
     "name": "stdout",
     "output_type": "stream",
     "text": [
      "enter the integer number:145\n",
      "the reverse number is:541\n"
     ]
    }
   ],
   "source": [
    "number=int(input(\"enter the integer number:\"))\n",
    "revs_number=0\n",
    "while(number>0):\n",
    "    remainder=number%10\n",
    "    revs_number=(revs_number*10)+remainder\n",
    "    number=number//10\n",
    "print(\"the reverse number is:{}\".format(revs_number))"
   ]
  },
  {
   "cell_type": "markdown",
   "id": "81f79b6d",
   "metadata": {},
   "source": [
    "## Program-7"
   ]
  },
  {
   "cell_type": "code",
   "execution_count": 1,
   "id": "076b4c6a",
   "metadata": {},
   "outputs": [
    {
     "name": "stdout",
     "output_type": "stream",
     "text": [
      "enter the user input:23456\n",
      "enter the 1st position which you want to swap:3\n",
      "enter the 2nd position which you want to swap:5\n",
      "original number: 23456\n",
      "interchanged number: 23654\n"
     ]
    }
   ],
   "source": [
    "def interchanged_digits(number,pos1,pos2):\n",
    "    number_str=str(number)\n",
    "    number_list=list(number_str)\n",
    "    number_list[pos1-1],number_list[pos2-1]=number_list[pos2-1],number_list[pos1-1]\n",
    "    interchanged_number=int(''.join(number_list))\n",
    "    return interchanged_number\n",
    "number=int(input('enter the user input:'))\n",
    "pos1=int(input('enter the 1st position which you want to swap:'))\n",
    "pos2=int(input('enter the 2nd position which you want to swap:'))\n",
    "interchanged_number=interchanged_digits(number,pos1,pos2)\n",
    "print(\"original number:\",number)\n",
    "print(\"interchanged number:\",interchanged_number)"
   ]
  },
  {
   "cell_type": "markdown",
   "id": "4b9328ef",
   "metadata": {},
   "source": [
    "## Program-8"
   ]
  },
  {
   "cell_type": "code",
   "execution_count": 3,
   "id": "324aef06",
   "metadata": {},
   "outputs": [
    {
     "name": "stdout",
     "output_type": "stream",
     "text": [
      "['Hello', 'Good', 'How', 'Simple']\n"
     ]
    }
   ],
   "source": [
    "def capitalize_strings(string_list):\n",
    "    return[s.capitalize()for s in string_list]\n",
    "input_strings=['hello','good','how','simple']\n",
    "capitalized_strings=capitalize_strings(input_strings)\n",
    "print(capitalized_strings)"
   ]
  },
  {
   "cell_type": "markdown",
   "id": "3261f797",
   "metadata": {},
   "source": [
    "## Program-9"
   ]
  },
  {
   "cell_type": "code",
   "execution_count": 35,
   "id": "5b9b03ae",
   "metadata": {},
   "outputs": [
    {
     "name": "stdout",
     "output_type": "stream",
     "text": [
      "enter a sentence:she bought sea shells from the sea shore\n",
      "duplicate words and their counts:\n",
      "sea:2\n",
      "no duplicate words found\n"
     ]
    }
   ],
   "source": [
    "def count_duplicate_words(sentence):\n",
    "    words=sentence.split()\n",
    "    word_count={}\n",
    "    for word in words:\n",
    "        word=word.lower()\n",
    "        if word in word_count:\n",
    "            word_count[word]+=1\n",
    "        else:\n",
    "            word_count[word]=1\n",
    "    duplicates={word:count for word,count in word_count.items()if count>1}\n",
    "    if duplicates:\n",
    "        print(\"duplicate words and their counts:\")\n",
    "        for word,count in duplicates.items():\n",
    "            print(f\"{word}:{count}\")\n",
    "        else:\n",
    "            print(f\"no duplicate words found\")\n",
    "sentence=input(\"enter a sentence:\")\n",
    "count_duplicate_words(sentence)"
   ]
  },
  {
   "cell_type": "code",
   "execution_count": null,
   "id": "d6a69ef9",
   "metadata": {},
   "outputs": [],
   "source": []
  }
 ],
 "metadata": {
  "kernelspec": {
   "display_name": "Python 3 (ipykernel)",
   "language": "python",
   "name": "python3"
  },
  "language_info": {
   "codemirror_mode": {
    "name": "ipython",
    "version": 3
   },
   "file_extension": ".py",
   "mimetype": "text/x-python",
   "name": "python",
   "nbconvert_exporter": "python",
   "pygments_lexer": "ipython3",
   "version": "3.10.9"
  }
 },
 "nbformat": 4,
 "nbformat_minor": 5
}
