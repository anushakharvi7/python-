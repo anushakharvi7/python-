{
 "cells": [
  {
   "cell_type": "markdown",
   "id": "c08c88cd",
   "metadata": {},
   "source": [
    "## Programe-1"
   ]
  },
  {
   "cell_type": "code",
   "execution_count": 3,
   "id": "b2e59c38",
   "metadata": {},
   "outputs": [
    {
     "name": "stdout",
     "output_type": "stream",
     "text": [
      "enter the number of digits:3\n",
      "enter a 3-digit integer:123\n",
      "1\n",
      "2\n",
      "3\n"
     ]
    }
   ],
   "source": [
    "n=int(input(\"enter the number of digits:\"))\n",
    "if n>0:\n",
    "    number=int(input(f\"enter a {n}-digit integer:\"))\n",
    "    if number>=10**(n-1)and number<10**n:\n",
    "        for i in range(n):\n",
    "            digit=number//(10**(n-1))\n",
    "            print(digit)\n",
    "            number%=10**(n-1)\n",
    "            n-=1\n",
    "    else:\n",
    "        print(f\"please enter a {n}-digit integer\")\n",
    "else:\n",
    "    print(\"please enter a valid number of digits(greater than 0)\")\n",
    "            "
   ]
  },
  {
   "cell_type": "markdown",
   "id": "4c9cf54e",
   "metadata": {},
   "source": [
    "## Program-2"
   ]
  },
  {
   "cell_type": "code",
   "execution_count": 4,
   "id": "a6a1b53f",
   "metadata": {},
   "outputs": [
    {
     "name": "stdout",
     "output_type": "stream",
     "text": [
      "enter the first number:8\n",
      "enter the second number:4\n",
      "enter the third number:7\n",
      "enter the fourth number:2\n",
      "the sorted number are: 2 4 7 8\n"
     ]
    }
   ],
   "source": [
    "a=int(input(\"enter the first number:\"))\n",
    "b=int(input(\"enter the second number:\"))\n",
    "c=int(input(\"enter the third number:\"))\n",
    "d=int(input(\"enter the fourth number:\"))\n",
    "if a>b:a,b=b,a\n",
    "if c>d:c,d=d,c\n",
    "if a>c:a,c=c,a\n",
    "if b>d:b,d=d,b\n",
    "if b>c:b,c=c,b\n",
    "print(\"the sorted number are:\",a,b,c,d)"
   ]
  },
  {
   "cell_type": "markdown",
   "id": "025c34e7",
   "metadata": {},
   "source": [
    "## Program-4"
   ]
  },
  {
   "cell_type": "code",
   "execution_count": 7,
   "id": "62b85b90",
   "metadata": {},
   "outputs": [
    {
     "name": "stdout",
     "output_type": "stream",
     "text": [
      "enter an n-digit number:1221\n",
      "Palindrome\n"
     ]
    }
   ],
   "source": [
    "number=int(input(\"enter an n-digit number:\"))\n",
    "original_number=number\n",
    "reversed_number=0\n",
    "while number>0:\n",
    "    digit=number%10\n",
    "    reversed_number=reversed_number*10+digit\n",
    "    number//=10\n",
    "if original_number==reversed_number:\n",
    "    print(\"Palindrome\")\n",
    "else:\n",
    "    print(\"Not a palindrome\")"
   ]
  },
  {
   "cell_type": "markdown",
   "id": "ab7ec171",
   "metadata": {},
   "source": [
    "## Program-5"
   ]
  },
  {
   "cell_type": "code",
   "execution_count": 8,
   "id": "cd47debc",
   "metadata": {},
   "outputs": [
    {
     "name": "stdout",
     "output_type": "stream",
     "text": [
      "enter an integer for the multiplication table:5\n",
      "multiplication table for 5:\n",
      "5*1=5\n",
      "5*2=10\n",
      "5*3=15\n",
      "5*4=20\n",
      "5*5=25\n",
      "5*6=30\n",
      "5*7=35\n",
      "5*8=40\n",
      "5*9=45\n",
      "5*10=50\n"
     ]
    }
   ],
   "source": [
    "n=int(input(\"enter an integer for the multiplication table:\"))\n",
    "print(f\"multiplication table for {n}:\")\n",
    "for i in range(1,11):\n",
    "    result=n*i\n",
    "    print(f\"{n}*{i}={result}\")"
   ]
  },
  {
   "cell_type": "code",
   "execution_count": null,
   "id": "524312b4",
   "metadata": {},
   "outputs": [],
   "source": []
  }
 ],
 "metadata": {
  "kernelspec": {
   "display_name": "Python 3 (ipykernel)",
   "language": "python",
   "name": "python3"
  },
  "language_info": {
   "codemirror_mode": {
    "name": "ipython",
    "version": 3
   },
   "file_extension": ".py",
   "mimetype": "text/x-python",
   "name": "python",
   "nbconvert_exporter": "python",
   "pygments_lexer": "ipython3",
   "version": "3.10.9"
  }
 },
 "nbformat": 4,
 "nbformat_minor": 5
}
